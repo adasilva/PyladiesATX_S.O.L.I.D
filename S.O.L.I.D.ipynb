{
 "cells": [
  {
   "cell_type": "markdown",
   "metadata": {},
   "source": [
    "# Single Responsibility"
   ]
  },
  {
   "cell_type": "code",
   "execution_count": 68,
   "metadata": {
    "collapsed": false
   },
   "outputs": [],
   "source": [
    "from abc import ABCMeta, abstractmethod"
   ]
  },
  {
   "cell_type": "code",
   "execution_count": 69,
   "metadata": {
    "collapsed": true
   },
   "outputs": [],
   "source": [
    "#before\n",
    "class bank_account:\n",
    "    __metaclass__ = ABCMeta\n",
    "    \n",
    "    @abstractmethod\n",
    "    def get_balance(): pass\n",
    "    \n",
    "    @abstractmethod\n",
    "    def deposit(amount): pass\n",
    "        \n",
    "    @abstractmethod\n",
    "    def withdraw(amount): pass\n",
    "    \n",
    "    @abstractmethod\n",
    "    def add_interest(amount): pass"
   ]
  },
  {
   "cell_type": "markdown",
   "metadata": {},
   "source": [
    "We can have a checking account or a savings account\n",
    "Most checking accounts do not add interest, ever!\n",
    "So we seperate out this respsonsibility to only the savings_account"
   ]
  },
  {
   "cell_type": "code",
   "execution_count": 70,
   "metadata": {
    "collapsed": false
   },
   "outputs": [],
   "source": [
    "#after\n",
    "class bank_account:\n",
    "    __metaclass__ = ABCMeta\n",
    "    \n",
    "    @abstractmethod\n",
    "    def get_balance(): pass\n",
    "    \n",
    "    @abstractmethod\n",
    "    def deposit(amount): pass\n",
    "        \n",
    "    @abstractmethod\n",
    "    def withdraw(amount): pass\n",
    "    \n",
    "class checking_account(bank_account): pass\n",
    "    \n",
    "class savings_account(bank_account):    \n",
    "\n",
    "    def add_interest(amount): \n",
    "        return get_balance() + amount"
   ]
  },
  {
   "cell_type": "markdown",
   "metadata": {},
   "source": [
    "Another example: "
   ]
  },
  {
   "cell_type": "code",
   "execution_count": 71,
   "metadata": {
    "collapsed": true
   },
   "outputs": [],
   "source": [
    "#before\n",
    "class fancy_music_player:\n",
    "    def __init__(): pass\n",
    "    \n",
    "    def change_folders(): pass\n",
    "    \n",
    "    def increase_volume(): pass \n",
    "    \n",
    "    def decrease_volume(): pass"
   ]
  },
  {
   "cell_type": "markdown",
   "metadata": {},
   "source": [
    "This music player is responsible not only for switching between folders, but also volume control. i.e. more than one responsiblity"
   ]
  },
  {
   "cell_type": "code",
   "execution_count": 72,
   "metadata": {
    "collapsed": false
   },
   "outputs": [],
   "source": [
    "#after\n",
    "class volume():\n",
    "    def change(): pass\n",
    "\n",
    "class folder():\n",
    "    def change(): pass\n",
    "    \n",
    "class fancy_music_player:\n",
    "    volume_control = volume()\n",
    "    folder = folder()\n",
    "\n",
    "    def some_method(): \n",
    "        volume_control.change()\n",
    "        folder.change()\n",
    "    "
   ]
  },
  {
   "cell_type": "markdown",
   "metadata": {},
   "source": [
    "# Open and close"
   ]
  },
  {
   "cell_type": "code",
   "execution_count": 73,
   "metadata": {
    "collapsed": false
   },
   "outputs": [],
   "source": [
    "#example from https://lostechies.com/joeocampo/2008/03/21/ptom-the-open-closed-principle/\n",
    "#before - step 1 filter by color\n",
    "\n",
    "class product_filter:\n",
    "    def by_color(self, products, productColor):\n",
    "        for product in products:\n",
    "            if product.Color == productColor:\n",
    "                yield product;"
   ]
  },
  {
   "cell_type": "code",
   "execution_count": 74,
   "metadata": {
    "collapsed": false
   },
   "outputs": [
    {
     "data": {
      "text/plain": [
       "<generator object by_size_and_color at 0x1067279d8>"
      ]
     },
     "execution_count": 74,
     "metadata": {},
     "output_type": "execute_result"
    }
   ],
   "source": [
    "#before - step 2 filter by size and color\n",
    "class product_filter:\n",
    "    def by_color(self, products, product_color):\n",
    "        for product in products:\n",
    "            if product.color == product_color:\n",
    "                yield product;\n",
    "                \n",
    "    def by_size(self, products, product_size):\n",
    "        for product in products:\n",
    "            if product.size == product_size:\n",
    "                yield product;\n",
    "                \n",
    "    def by_size_and_color(self, products, product_size, product_color):\n",
    "        for product in products:\n",
    "            if product.size == product_size and product.color == product_color:\n",
    "                yield product;\n",
    "                \n",
    "#called \n",
    "products = []#array of objects\n",
    "pf = product_filter()\n",
    "pf.by_color(products, 'green')\n",
    "pf.by_size(products, 10)\n",
    "pf.by_size_and_color(products, 10, 'green')"
   ]
  },
  {
   "cell_type": "markdown",
   "metadata": {},
   "source": [
    "What if one more filterable attribute is requested\n",
    "- we have no choice but to modify above class? YES === **open** to modification\n",
    "- can we extend above class? NO === **closed** for extension\n"
   ]
  },
  {
   "cell_type": "code",
   "execution_count": 75,
   "metadata": {
    "collapsed": false
   },
   "outputs": [
    {
     "data": {
      "text/plain": [
       "<generator object apply_filter at 0x1072187e0>"
      ]
     },
     "execution_count": 75,
     "metadata": {},
     "output_type": "execute_result"
    }
   ],
   "source": [
    "#after\n",
    "class product_filter:\n",
    "    def by(self, products, product_filter_specification):\n",
    "            return product_filter_specification.filter(products)\n",
    "\n",
    "class product_filter_specification:\n",
    "    def filter(self, products):\n",
    "        return self.apply_filter(products)\n",
    "\n",
    "    @abstractmethod \n",
    "    def apply_filter(self, products): pass\n",
    "    \n",
    "\n",
    "class color_filter_specification(product_filter_specification):\n",
    "\n",
    "    def color_filter_specification(self, product_color):\n",
    "        self.product_color = product_color\n",
    "\n",
    "    def apply_filter(self, products):\n",
    "        for product in products:\n",
    "            if product.color == product_color:\n",
    "                yield product;\n",
    "                \n",
    "class size_filter_specification(product_filter_specification):\n",
    "\n",
    "    def size_filter_specification(self, product_size):\n",
    "        self.product_size = product_size\n",
    "\n",
    "    def apply_filter(self, products):\n",
    "        for product in products:\n",
    "            if product.size == product_size:\n",
    "                yield product;\n",
    "                \n",
    "class size_and_color_filter_specification(product_filter_specification):\n",
    "\n",
    "    def __init__(self, product_size, product_color):\n",
    "        self.product_size = product_size\n",
    "        self.product_color = product_color\n",
    "\n",
    "    def apply_filter(self, products):\n",
    "        for product in products:\n",
    "            if product.size == product_size and product.color == product_color:\n",
    "                yield product;\n",
    "                \n",
    "#called \n",
    "products = [] #array of objects\n",
    "filter_spec = size_and_color_filter_specification(10, 'green')\n",
    "pf = product_filter()\n",
    "pf.by(products, filter_spec)\n"
   ]
  },
  {
   "cell_type": "markdown",
   "metadata": {},
   "source": [
    "Now when a new filter critera comes up, all you need to do is extend the specification, and add a new class without modifying existing classes."
   ]
  },
  {
   "cell_type": "markdown",
   "metadata": {},
   "source": [
    "# Liskov substitution\n",
    "\n"
   ]
  },
  {
   "cell_type": "code",
   "execution_count": 76,
   "metadata": {
    "collapsed": false
   },
   "outputs": [
    {
     "data": {
      "text/plain": [
       "1156"
      ]
     },
     "execution_count": 76,
     "metadata": {},
     "output_type": "execute_result"
    }
   ],
   "source": [
    "class rectangle:\n",
    "    def set_width(self, width): \n",
    "        self.width = width\n",
    "    def set_height(self, height): \n",
    "        self.height = height\n",
    "    def get_area(self): \n",
    "        return self.width * self.height\n",
    "    \n",
    "class square(rectangle):\n",
    "    def set_width(self, width): \n",
    "        self.width = width\n",
    "        self.height = width\n",
    "    def set_height(self, height): \n",
    "        self.width = height\n",
    "        self.height = height\n",
    "    \n",
    "s = square() #assume some factory returns this object\n",
    "s.set_width(10)\n",
    "s.set_height(34)\n",
    "s.get_area()\n"
   ]
  },
  {
   "cell_type": "markdown",
   "metadata": {},
   "source": [
    "# Interface segregation\n"
   ]
  },
  {
   "cell_type": "code",
   "execution_count": 77,
   "metadata": {
    "collapsed": false
   },
   "outputs": [],
   "source": [
    "#example from https://lostechies.com/rayhouston/2008/03/15/ptom-the-interface-segregation-principle/\n",
    "#before 1\n",
    "class animal:\n",
    "    def feed(): pass\n",
    "class dog(animal):\n",
    "    def feed(): pass\n",
    "class snake(animal):\n",
    "    def feed(): pass\n",
    "    "
   ]
  },
  {
   "cell_type": "code",
   "execution_count": 78,
   "metadata": {
    "collapsed": false
   },
   "outputs": [],
   "source": [
    "#before 2\n",
    "class animal:\n",
    "    def feed(): pass\n",
    "    def groom(): pass\n",
    "class dog(animal):\n",
    "    def feed(): pass\n",
    "    def groom(): pass #OK\n",
    "class snake(animal):\n",
    "    def feed(): pass\n",
    "    def groom(): pass #yikes!!"
   ]
  },
  {
   "cell_type": "code",
   "execution_count": 79,
   "metadata": {
    "collapsed": true
   },
   "outputs": [],
   "source": [
    "#after\n",
    "class pet:\n",
    "    def groom(): pass\n",
    "class animal:\n",
    "    def feed(): pass\n",
    "class dog(animal, pet):\n",
    "    def feed(): pass\n",
    "    def groom(): pass #OK\n",
    "class snake(animal):\n",
    "    def feed(): pass\n",
    "     #yay no need to groom!"
   ]
  },
  {
   "cell_type": "markdown",
   "metadata": {},
   "source": [
    "# Dependency inversion"
   ]
  },
  {
   "cell_type": "code",
   "execution_count": 80,
   "metadata": {
    "collapsed": true
   },
   "outputs": [],
   "source": [
    "# example from http://code.tutsplus.com/tutorials/solid-part-4-the-dependency-inversion-principle--net-36872\n",
    "#before depending on concrete classes\n",
    "class ebook_reader():\n",
    "    def __init__(self, pdf_book): \n",
    "        self.pdf_book = pdf_book\n",
    "        \n",
    "    def read(self):\n",
    "        self.pdf_book.read()\n",
    "        \n",
    "class pdf_book:\n",
    "    def read(): pass"
   ]
  },
  {
   "cell_type": "code",
   "execution_count": 81,
   "metadata": {
    "collapsed": true
   },
   "outputs": [],
   "source": [
    "#after 1\n",
    "class e_book():\n",
    "    def read(): pass\n",
    "    \n",
    "class e_book_reader():\n",
    "    def __init__(self, e_book): \n",
    "        self.e_book = e_book\n",
    "        \n",
    "    def read(self):\n",
    "        self.ebook.read()\n",
    "        \n",
    "class pdf_book(e_book):\n",
    "    def read(): pass"
   ]
  },
  {
   "cell_type": "code",
   "execution_count": 82,
   "metadata": {
    "collapsed": true
   },
   "outputs": [],
   "source": [
    "#after 2\n",
    "class e_book():\n",
    "    def read(): pass\n",
    "    \n",
    "class e_book_reader():\n",
    "    def __init__(self, e_book): \n",
    "        self.e_book = e_book\n",
    "        \n",
    "    def read(self):\n",
    "        self.ebook.read()\n",
    "        \n",
    "class pdf_book(e_book):\n",
    "    def read(): pass\n",
    "    \n",
    "class doc_book(e_book):\n",
    "    def read(): pass"
   ]
  }
 ],
 "metadata": {
  "kernelspec": {
   "display_name": "Python 3",
   "language": "python",
   "name": "python3"
  },
  "language_info": {
   "codemirror_mode": {
    "name": "ipython",
    "version": 3
   },
   "file_extension": ".py",
   "mimetype": "text/x-python",
   "name": "python",
   "nbconvert_exporter": "python",
   "pygments_lexer": "ipython3",
   "version": "3.4.3"
  }
 },
 "nbformat": 4,
 "nbformat_minor": 0
}
